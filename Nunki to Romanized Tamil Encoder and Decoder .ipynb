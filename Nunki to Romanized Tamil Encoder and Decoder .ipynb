{
 "cells": [
  {
   "cell_type": "code",
   "execution_count": 1,
   "id": "e9d759c6",
   "metadata": {},
   "outputs": [],
   "source": [
    "# Nunkish ciphertext encoder. Simple substitution that converts:\n",
    "# abcdefghijklmnopqrstuvwxyz  ---- into --->\n",
    "# u?y?o?vti?ripnemlkyhag??c?\n",
    "# Where question marks represent blank characters that don't exist in romanized Tamil (At least on Google Translate)\n",
    "\n",
    "english_charbank = ['a','b','c','d','e','f','g','h','i','j','k','l','m','n','o','p','q','r','s','t','u','v','w','x','y','z']\n",
    "\n",
    "ciphert_charbank = ['u','0','y','0','o','0','v','t','i','0','r','i','p','n','e','m','l','k','y','h','a','g','0','0','c','0']\n",
    "\n",
    "# Constuct uppercase letter banks\n",
    "uppercase_charbank = []\n",
    "for letter in english_charbank:\n",
    "    uppercase_charbank.append(letter.upper())\n",
    "# print(uppercase_charbank)\n",
    "\n",
    "upper_cipher_charbank = []\n",
    "for letter in ciphert_charbank:\n",
    "    upper_cipher_charbank.append(letter.upper())\n",
    "# print(upper_cipher_charbank)\n",
    "\n",
    "# Join both lists into unified upper/lower case list, then convert into tuple.\n",
    "\n",
    "raw_tamil_input = english_charbank + uppercase_charbank\n",
    "cipher_text_sub = ciphert_charbank + upper_cipher_charbank\n",
    "\n",
    "# Combine into list of tuples:\n",
    "codex = [(raw_tamil_input[i], cipher_text_sub[i]) for i in range(0, len(raw_tamil_input))]\n",
    "\n",
    "# print(codex)"
   ]
  },
  {
   "cell_type": "markdown",
   "id": "fb5a2e5b",
   "metadata": {},
   "source": [
    "### Refer to the link below for an accurate A-Z to Nunki font:\n",
    "\n",
    "[Nunkish Language Font by よづき(kkyane)](https://kkyane.booth.pm/items/1979406)"
   ]
  },
  {
   "cell_type": "code",
   "execution_count": 2,
   "id": "fa28c677",
   "metadata": {},
   "outputs": [
    {
     "name": "stdout",
     "output_type": "stream",
     "text": [
      "Rekirrui!\n"
     ]
    }
   ],
   "source": [
    "# Encoder\n",
    "\n",
    "# Input string in romanized tamil (From Google Translate, preferably)\n",
    "input_string = \"Korikkai!\"\n",
    "\n",
    "codex_length = len(codex)\n",
    "\n",
    "output_string = \"\"\n",
    "\n",
    "# String encoding process:\n",
    "for indiv_char in input_string:\n",
    "    \n",
    "    matched= False\n",
    "    \n",
    "    # Grossly inefficient nested for loop. Look to revise in future.\n",
    "    for i in range(0, codex_length):\n",
    "        if (codex[i][0] == indiv_char):\n",
    "            output_string += codex[i][1]\n",
    "            matched = True\n",
    "    \n",
    "    if (not matched):\n",
    "        output_string += indiv_char\n",
    "\n",
    "print(output_string)"
   ]
  },
  {
   "cell_type": "code",
   "execution_count": 3,
   "id": "e99167d3",
   "metadata": {},
   "outputs": [
    {
     "name": "stdout",
     "output_type": "stream",
     "text": [
      "Muttacakorarar, Ni uyirotu irukkiray neru makiqacci ataikiren. Nanri.\n"
     ]
    }
   ],
   "source": [
    "# Decoder\n",
    "\n",
    "# Input string in romanized nunki\n",
    "input_string = \"Pahhuyurekukuk, Ni acikeha ikarrikuc noka puriquyyi uhuirikon. Nunki.\"\n",
    "\n",
    "codex_length = len(codex)\n",
    "\n",
    "# Output hopefully is in romanized tamil.\n",
    "output_string = \"\"\n",
    "\n",
    "# String encoding process:\n",
    "for indiv_char in input_string:\n",
    "    \n",
    "    matched= False\n",
    "    \n",
    "    # Grossly inefficient nested for loop. Look to revise in future.\n",
    "    for i in range(0, codex_length):\n",
    "        if (codex[i][1] == indiv_char):\n",
    "            output_string += codex[i][0]\n",
    "            matched = True\n",
    "            # There exist repetitions so a break is needed.\n",
    "            break;\n",
    "    \n",
    "    if (not matched):\n",
    "        output_string += indiv_char\n",
    "\n",
    "print(output_string)"
   ]
  },
  {
   "cell_type": "code",
   "execution_count": null,
   "id": "fa849519",
   "metadata": {},
   "outputs": [],
   "source": []
  }
 ],
 "metadata": {
  "kernelspec": {
   "display_name": "Python 3 (ipykernel)",
   "language": "python",
   "name": "python3"
  },
  "language_info": {
   "codemirror_mode": {
    "name": "ipython",
    "version": 3
   },
   "file_extension": ".py",
   "mimetype": "text/x-python",
   "name": "python",
   "nbconvert_exporter": "python",
   "pygments_lexer": "ipython3",
   "version": "3.9.13"
  }
 },
 "nbformat": 4,
 "nbformat_minor": 5
}
